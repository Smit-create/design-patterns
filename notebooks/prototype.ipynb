{
 "cells": [
  {
   "cell_type": "markdown",
   "id": "bdfcd35c",
   "metadata": {},
   "source": [
    "# Prototype Pattern\n",
    "\n",
    "\n",
    "## Introduction\n",
    "\n",
    "The Prototype Pattern is a creational design pattern that allows for the creation of new objects by copying an existing object, known as the prototype. It is particularly useful when the cost of creating a new object by conventional means is high or when the initialization process is complex.\n",
    "\n",
    "## Motivation\n",
    "\n",
    "In software development, there are scenarios where creating new objects involves significant overhead, such as reading from a database or performing complex initialization. The Prototype Pattern addresses this by providing a mechanism to clone existing objects, reducing the cost and complexity of object creation.\n",
    "\n",
    "## Implementation\n",
    "\n",
    "Let's dive into the implementation of the Prototype Pattern. In this pattern, we define a prototype interface or abstract class with a method to clone itself, and concrete prototype classes that implement the cloning method.\n",
    "\n",
    "We define a `Prototype` interface or abstract class with a `clone` method."
   ]
  },
  {
   "cell_type": "code",
   "execution_count": 1,
   "id": "3be52f5d",
   "metadata": {},
   "outputs": [],
   "source": [
    "from copy import deepcopy\n",
    "\n",
    "class Prototype:\n",
    "    def clone(self):\n",
    "        pass"
   ]
  },
  {
   "cell_type": "markdown",
   "id": "f5fb9f4d",
   "metadata": {},
   "source": [
    "We define a concrete implementation of the `Prototype` interface: `ProductPrototype`, which implements the `clone` method to create a deep copy of itself using the `deepcopy` function from the `copy` module."
   ]
  },
  {
   "cell_type": "code",
   "execution_count": 4,
   "id": "95455c2c",
   "metadata": {},
   "outputs": [],
   "source": [
    "class ProductPrototype(Prototype):\n",
    "    def __init__(self, name, price):\n",
    "        self.name = name\n",
    "        self.price = price\n",
    "\n",
    "    def clone(self):\n",
    "        return deepcopy(self)"
   ]
  },
  {
   "cell_type": "code",
   "execution_count": 5,
   "id": "4445cd76",
   "metadata": {},
   "outputs": [
    {
     "name": "stdout",
     "output_type": "stream",
     "text": [
      "Original Product: Smartphone 500\n",
      "Cloned Product: Smartphone 500\n"
     ]
    }
   ],
   "source": [
    "original_product = ProductPrototype(\"Smartphone\", 500)\n",
    "cloned_product = original_product.clone()\n",
    "\n",
    "print(\"Original Product:\", original_product.name, original_product.price)\n",
    "print(\"Cloned Product:\", cloned_product.name, cloned_product.price)"
   ]
  },
  {
   "cell_type": "markdown",
   "id": "688c01f0",
   "metadata": {},
   "source": [
    "`ProductPrototype` class acts as the concrete prototype, representing a product in some application. We create an original product object and then clone it to create a new product with the same attributes."
   ]
  },
  {
   "cell_type": "markdown",
   "id": "0132fdc7",
   "metadata": {},
   "source": [
    "## Benefits\n",
    "\n",
    "- Reduces the cost of creating new objects by avoiding complex initialization.\n",
    "- Allows for the creation of new objects by copying existing ones, reducing overhead.\n",
    "- Provides a flexible and scalable approach to object creation.\n",
    "\n",
    "## Drawbacks\n",
    "- Deep copying can be resource-intensive, especially for complex objects with nested structures.\n",
    "- Requires careful handling of object references and mutable state.\n"
   ]
  }
 ],
 "metadata": {
  "kernelspec": {
   "display_name": "Python 3 (ipykernel)",
   "language": "python",
   "name": "python3"
  },
  "language_info": {
   "codemirror_mode": {
    "name": "ipython",
    "version": 3
   },
   "file_extension": ".py",
   "mimetype": "text/x-python",
   "name": "python",
   "nbconvert_exporter": "python",
   "pygments_lexer": "ipython3",
   "version": "3.10.11"
  }
 },
 "nbformat": 4,
 "nbformat_minor": 5
}
