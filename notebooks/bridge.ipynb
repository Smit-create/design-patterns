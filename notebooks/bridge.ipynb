{
 "cells": [
  {
   "cell_type": "markdown",
   "id": "480e996b",
   "metadata": {},
   "source": [
    "# Bridge Pattern\n",
    "\n",
    "## Introduction\n",
    "\n",
    "The Bridge Pattern is a structural design pattern that decouples an abstraction from its implementation, allowing the two to vary independently. It achieves this by separating an abstraction from the specific details of how it is implemented.\n",
    "\n",
    "## Motivation\n",
    "\n",
    "In software development, there are scenarios where an abstraction needs to be decoupled from its implementation to improve flexibility, maintainability, and scalability. For example, an application may need to support multiple platforms, devices, or interfaces without altering the higher-level abstraction.\n",
    "\n",
    "## Implementation\n",
    "\n",
    "Let's dive into the implementation of the Bridge Pattern. In this pattern, we define an abstraction class with a reference to an implementer, and a hierarchy of concrete implementers. The abstraction class delegates the actual work to the implementer.\n",
    "\n",
    "We define a `Device` interface or abstract class representing the implementer, with methods to turn on and off a device."
   ]
  },
  {
   "cell_type": "code",
   "execution_count": 1,
   "id": "950fc88c",
   "metadata": {},
   "outputs": [],
   "source": [
    "from abc import ABC, abstractmethod\n",
    "\n",
    "# Implementer interface\n",
    "class Device(ABC):\n",
    "    @abstractmethod\n",
    "    def turn_on(self):\n",
    "        pass\n",
    "\n",
    "    @abstractmethod\n",
    "    def turn_off(self):\n",
    "        pass\n"
   ]
  },
  {
   "cell_type": "markdown",
   "id": "f52877b8",
   "metadata": {},
   "source": [
    "Now, we define concrete implementations of the `Device` interface: `TV` and `Radio`, each implementing the methods to control the respective device."
   ]
  },
  {
   "cell_type": "code",
   "execution_count": 2,
   "id": "c9ead723",
   "metadata": {},
   "outputs": [],
   "source": [
    "class TV(Device):\n",
    "    def turn_on(self):\n",
    "        print(\"Turning on the TV\")\n",
    "\n",
    "    def turn_off(self):\n",
    "        print(\"Turning off the TV\")\n",
    "\n",
    "class Radio(Device):\n",
    "    def turn_on(self):\n",
    "        print(\"Turning on the radio\")\n",
    "\n",
    "    def turn_off(self):\n",
    "        print(\"Turning off the radio\")"
   ]
  },
  {
   "cell_type": "markdown",
   "id": "61f964c1",
   "metadata": {},
   "source": [
    "Finally, we define a `RemoteControl` class as the abstraction that holds a reference to a `Device` instance. It delegates the actual work of controlling the device to the `Device` instance."
   ]
  },
  {
   "cell_type": "code",
   "execution_count": 3,
   "id": "2dac944d",
   "metadata": {},
   "outputs": [],
   "source": [
    "# Abstraction\n",
    "class RemoteControl:\n",
    "    def __init__(self, device):\n",
    "        self.device = device\n",
    "\n",
    "    def power_on(self):\n",
    "        self.device.turn_on()\n",
    "\n",
    "    def power_off(self):\n",
    "        self.device.turn_off()"
   ]
  },
  {
   "cell_type": "markdown",
   "id": "c5850bb1",
   "metadata": {},
   "source": [
    "Now, let's see how we can use the Bridge Pattern in the example of using a remote control to control different devices.\n",
    "\n",
    "We create `TV` and `Radio` objects, representing concrete implementations of the `Device` interface."
   ]
  },
  {
   "cell_type": "code",
   "execution_count": 4,
   "id": "9cc5efaf",
   "metadata": {},
   "outputs": [],
   "source": [
    "tv = TV()\n",
    "radio = Radio()"
   ]
  },
  {
   "cell_type": "markdown",
   "id": "c0558b45",
   "metadata": {},
   "source": [
    "The remote controls use the `power_on` and `power_off` methods to control the respective devices, demonstrating the decoupling of the abstraction (`RemoteControl`) from the implementation (`TV` and `Radio`)."
   ]
  },
  {
   "cell_type": "code",
   "execution_count": 5,
   "id": "16ac7afa",
   "metadata": {},
   "outputs": [
    {
     "name": "stdout",
     "output_type": "stream",
     "text": [
      "Turning on the TV\n",
      "Turning off the TV\n"
     ]
    }
   ],
   "source": [
    "# Create remote control for TV\n",
    "tv_remote = RemoteControl(tv)\n",
    "tv_remote.power_on()\n",
    "tv_remote.power_off()"
   ]
  },
  {
   "cell_type": "code",
   "execution_count": 6,
   "id": "3e45d98c",
   "metadata": {},
   "outputs": [
    {
     "name": "stdout",
     "output_type": "stream",
     "text": [
      "Turning on the radio\n",
      "Turning off the radio\n"
     ]
    }
   ],
   "source": [
    "# Create remote control for radio\n",
    "radio_remote = RemoteControl(radio)\n",
    "radio_remote.power_on()\n",
    "radio_remote.power_off()"
   ]
  },
  {
   "cell_type": "markdown",
   "id": "85ce4734",
   "metadata": {},
   "source": [
    "## Benefits\n",
    "\n",
    "- Decouples an abstraction from its implementation, allowing the two to vary independently.\n",
    "- Promotes flexibility and scalability in the system.\n",
    "- Simplifies the addition of new devices or abstractions.\n",
    "\n",
    "## Drawbacks\n",
    "\n",
    "- Can add complexity to the code due to the additional layers of abstraction.\n",
    "- Requires careful handling of abstraction and implementation hierarchies."
   ]
  }
 ],
 "metadata": {
  "kernelspec": {
   "display_name": "Python 3 (ipykernel)",
   "language": "python",
   "name": "python3"
  },
  "language_info": {
   "codemirror_mode": {
    "name": "ipython",
    "version": 3
   },
   "file_extension": ".py",
   "mimetype": "text/x-python",
   "name": "python",
   "nbconvert_exporter": "python",
   "pygments_lexer": "ipython3",
   "version": "3.10.11"
  }
 },
 "nbformat": 4,
 "nbformat_minor": 5
}
