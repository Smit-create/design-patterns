{
 "cells": [
  {
   "cell_type": "markdown",
   "id": "11c1909a",
   "metadata": {},
   "source": [
    "# Singleton Pattern\n",
    "\n",
    "\n",
    "## Introduction\n",
    "\n",
    "The **Singleton Pattern** is one of the creational design patterns that ensures a class has only one instance and provides a global point of access to that instance. This pattern is commonly used when only one instance of a class is needed throughout the lifetime of an application, such as managing a shared resource or maintaining global state.\n",
    "\n",
    "\n",
    "## Motivation\n",
    "\n",
    "Imagine a scenario where you need to ensure that only one instance of a class is created and shared across multiple parts of your application. This could be a logger, a database connection, or a configuration manager. Using the Singleton Pattern, you can guarantee that there is only one instance of the class, and all requests for that instance return the same object.\n",
    "\n",
    "## Implementation\n",
    "\n",
    "Let's dive into the implementation of the Singleton Pattern. There are several ways to implement the Singleton Pattern in Python, but one of the most common approaches is to use a class variable to store the instance and a class method to provide access to that instance.\n",
    "\n",
    "Suppose you're developing a Python application that requires logging messages to a file. You want to ensure that there is only one logger instance throughout the application to maintain consistency and prevent multiple log files from being created.\n",
    "\n",
    "Let's implement the `Logger` class as a Singleton."
   ]
  },
  {
   "cell_type": "code",
   "execution_count": 2,
   "id": "e2845c3b",
   "metadata": {},
   "outputs": [],
   "source": [
    "class Logger:\n",
    "    _instance = None\n",
    "\n",
    "    def __new__(cls):\n",
    "        if cls._instance is None:\n",
    "            cls._instance = super().__new__(cls)\n",
    "            # Open the log file\n",
    "            cls._instance._log_file = open(\"application.log\", \"a\")\n",
    "        return cls._instance\n",
    "\n",
    "    def log(self, message):\n",
    "        \"\"\"Write a message to the log file\"\"\"\n",
    "        self._log_file.write(message + '\\n')\n",
    "\n",
    "    def close(self):\n",
    "        # Close log file when application terminates\n",
    "        self._log_file.close()"
   ]
  },
  {
   "cell_type": "markdown",
   "id": "08671d6a",
   "metadata": {},
   "source": [
    "In this example:\n",
    "\n",
    "- We define a Logger class with a `_log_file` attribute to store the file object for writing log messages.\n",
    "- The `_instance` class variable is used to store the single instance of the Logger class.\n",
    "- In the `__new__` method, we check if the `_instance` variable is `None`. If it is, we create a new instance of the Logger class and open the log file in append mode. Otherwise, we return the existing instance."
   ]
  },
  {
   "cell_type": "code",
   "execution_count": 3,
   "id": "a920b90e",
   "metadata": {},
   "outputs": [],
   "source": [
    "# Create two logger instances\n",
    "logger1 = Logger()\n",
    "logger2 = Logger()"
   ]
  },
  {
   "cell_type": "code",
   "execution_count": 4,
   "id": "915c3f55",
   "metadata": {},
   "outputs": [],
   "source": [
    "# Log messages using both of them\n",
    "logger1.log(\"Info: Application started from logger 1\")\n",
    "logger2.log(\"Info: Application started from logger 2\")"
   ]
  },
  {
   "cell_type": "code",
   "execution_count": 7,
   "id": "804a4551",
   "metadata": {},
   "outputs": [
    {
     "name": "stdout",
     "output_type": "stream",
     "text": [
      "True\n"
     ]
    }
   ],
   "source": [
    "# Both instances refer to the same object\n",
    "print(logger1 is logger2)"
   ]
  },
  {
   "cell_type": "markdown",
   "id": "c78d66c6",
   "metadata": {},
   "source": [
    "As you can see, both `logger1` and `logger2` refer to the same object, demonstrating that only one instance of the `Logger` class is created."
   ]
  },
  {
   "cell_type": "code",
   "execution_count": 6,
   "id": "01978b83",
   "metadata": {},
   "outputs": [],
   "source": [
    "logger1.close()"
   ]
  },
  {
   "cell_type": "markdown",
   "id": "fbe364cf",
   "metadata": {},
   "source": [
    "In the above example, we ensure that there is only one instance of the `Logger` class throughout the application. All log messages are written to the same log file, maintaining consistency and preventing multiple log files from being created."
   ]
  },
  {
   "cell_type": "markdown",
   "id": "9842f793",
   "metadata": {},
   "source": [
    "## Benefits\n",
    "\n",
    "- Ensures that a class has only one instance.\n",
    "- Provides a global point of access to that instance.\n",
    "- Lazy initialization: The instance is created only when it is first requested.\n",
    "\n",
    "## Drawbacks\n",
    "\n",
    "- Can introduce tight coupling between classes.\n",
    "- Global state: Changes to the singleton object affect the entire application."
   ]
  }
 ],
 "metadata": {
  "kernelspec": {
   "display_name": "Python 3 (ipykernel)",
   "language": "python",
   "name": "python3"
  },
  "language_info": {
   "codemirror_mode": {
    "name": "ipython",
    "version": 3
   },
   "file_extension": ".py",
   "mimetype": "text/x-python",
   "name": "python",
   "nbconvert_exporter": "python",
   "pygments_lexer": "ipython3",
   "version": "3.10.11"
  }
 },
 "nbformat": 4,
 "nbformat_minor": 5
}
