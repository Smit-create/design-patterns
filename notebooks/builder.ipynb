{
 "cells": [
  {
   "cell_type": "markdown",
   "id": "f0b7af39",
   "metadata": {},
   "source": [
    "# Builder Pattern\n",
    "\n",
    "## Introduction\n",
    "\n",
    "The Builder Pattern is a creational design pattern that separates the construction of a complex object from its representation, allowing the same construction process to create different representations. It is particularly useful when dealing with objects that have multiple attributes or configurations.\n",
    "\n",
    "\n",
    "## Motivation\n",
    "\n",
    "In software development, there are scenarios where objects need to be created with numerous configuration options or attributes. Directly instantiating such objects with a constructor can lead to a complex and error-prone code. The Builder Pattern addresses this by encapsulating the construction logic and providing a fluent interface to set different attributes.\n",
    "\n",
    "\n",
    "## Implementation\n",
    "\n",
    "Let's dive into the implementation of the Builder Pattern. In this pattern, we define a builder class responsible for constructing the complex object step by step, and a director class that orchestrates the construction process.\n",
    "\n",
    "We define a `Product` class representing the complex object to be constructed."
   ]
  },
  {
   "cell_type": "code",
   "execution_count": 1,
   "id": "c07f5cbf",
   "metadata": {},
   "outputs": [],
   "source": [
    "class Product:\n",
    "    def __init__(self):\n",
    "        self.part1 = None\n",
    "        self.part2 = None\n",
    "        self.part3 = None"
   ]
  },
  {
   "cell_type": "markdown",
   "id": "c0a51c76",
   "metadata": {},
   "source": [
    "Now, we define a `Builder` class with methods to construct different parts of the product and assemble them together."
   ]
  },
  {
   "cell_type": "code",
   "execution_count": 2,
   "id": "28648fc1",
   "metadata": {},
   "outputs": [],
   "source": [
    "class Builder:\n",
    "    def __init__(self):\n",
    "        self.product = Product()\n",
    "\n",
    "    def build_part1(self, part1):\n",
    "        self.product.part1 = part1\n",
    "\n",
    "    def build_part2(self, part2):\n",
    "        self.product.part2 = part2\n",
    "\n",
    "    def build_part3(self, part3):\n",
    "        self.product.part3 = part3\n",
    "\n",
    "    def get_product(self):\n",
    "        return self.product"
   ]
  },
  {
   "cell_type": "markdown",
   "id": "8379648d",
   "metadata": {},
   "source": [
    "We define a `Director` class that takes a builder object and orchestrates the construction process by invoking the builder's methods."
   ]
  },
  {
   "cell_type": "code",
   "execution_count": 3,
   "id": "1699bbea",
   "metadata": {},
   "outputs": [],
   "source": [
    "class Director:\n",
    "    def __init__(self, builder):\n",
    "        self.builder = builder\n",
    "\n",
    "    def construct(self, part1, part2, part3):\n",
    "        self.builder.build_part1(part1)\n",
    "        self.builder.build_part2(part2)\n",
    "        self.builder.build_part3(part3)"
   ]
  },
  {
   "cell_type": "markdown",
   "id": "be73f40a",
   "metadata": {},
   "source": [
    "### Example\n",
    "\n",
    "Now, let's see how we can use the Builder Pattern in a real-life example of building a custom meal at a restaurant."
   ]
  },
  {
   "cell_type": "code",
   "execution_count": 4,
   "id": "cc5ba89b",
   "metadata": {},
   "outputs": [],
   "source": [
    "class MealBuilder:\n",
    "    def __init__(self):\n",
    "        self.builder = Builder()\n",
    "\n",
    "    def prepare_veg_meal(self):\n",
    "        self.builder.build_part1(\"Salad\")\n",
    "        self.builder.build_part2(\"Vegetable Curry\")\n",
    "        self.builder.build_part3(\"Rice\")\n",
    "        return self.builder.get_product()\n",
    "\n",
    "    def prepare_non_veg_meal(self):\n",
    "        self.builder.build_part1(\"Chicken Soup\")\n",
    "        self.builder.build_part2(\"Grilled Chicken\")\n",
    "        self.builder.build_part3(\"Chicken Tikka\")\n",
    "        return self.builder.get_product()"
   ]
  },
  {
   "cell_type": "markdown",
   "id": "5e64219d",
   "metadata": {},
   "source": [
    "`MealBuilder` class acts as the director, while the `Builder` class constructs different parts of the meal (`Product`). The `prepare_veg_meal` and `prepare_non_veg_meal` methods demonstrate the flexibility of the Builder Pattern in creating different representations of the product."
   ]
  },
  {
   "cell_type": "code",
   "execution_count": 5,
   "id": "c1a1bb82",
   "metadata": {},
   "outputs": [
    {
     "name": "stdout",
     "output_type": "stream",
     "text": [
      "Veg Meal:\n",
      "Part 1: Chicken Soup\n",
      "Part 2: Grilled Chicken\n",
      "Part 3: Chicken Tikka\n",
      "\n",
      "Non-Veg Meal:\n",
      "Part 1: Chicken Soup\n",
      "Part 2: Grilled Chicken\n",
      "Part 3: Chicken Tikka\n"
     ]
    }
   ],
   "source": [
    "meal_builder = MealBuilder()\n",
    "veg_meal = meal_builder.prepare_veg_meal()\n",
    "non_veg_meal = meal_builder.prepare_non_veg_meal()\n",
    "\n",
    "print(\"Veg Meal:\")\n",
    "print(\"Part 1:\", veg_meal.part1)\n",
    "print(\"Part 2:\", veg_meal.part2)\n",
    "print(\"Part 3:\", veg_meal.part3)\n",
    "\n",
    "print(\"\\nNon-Veg Meal:\")\n",
    "print(\"Part 1:\", non_veg_meal.part1)\n",
    "print(\"Part 2:\", non_veg_meal.part2)\n",
    "print(\"Part 3:\", non_veg_meal.part3)"
   ]
  },
  {
   "cell_type": "markdown",
   "id": "f4c3aeea",
   "metadata": {},
   "source": [
    "## Benefits\n",
    "\n",
    "- Separates the construction of a complex object from its representation.\n",
    "- Provides a fluent interface for configuring the object's attributes.\n",
    "- Allows for the construction of different representations using the same construction process.\n",
    "\n",
    "## Drawbacks\n",
    "\n",
    "- Can introduce complexity, especially for objects with a large number of attributes.\n",
    "- Requires the creation of additional classes, which can increase code overhead."
   ]
  }
 ],
 "metadata": {
  "kernelspec": {
   "display_name": "Python 3 (ipykernel)",
   "language": "python",
   "name": "python3"
  },
  "language_info": {
   "codemirror_mode": {
    "name": "ipython",
    "version": 3
   },
   "file_extension": ".py",
   "mimetype": "text/x-python",
   "name": "python",
   "nbconvert_exporter": "python",
   "pygments_lexer": "ipython3",
   "version": "3.10.11"
  }
 },
 "nbformat": 4,
 "nbformat_minor": 5
}
