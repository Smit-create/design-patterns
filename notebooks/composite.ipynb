{
 "cells": [
  {
   "cell_type": "markdown",
   "id": "c569409e",
   "metadata": {},
   "source": [
    "# Composite Pattern\n",
    "\n",
    "## Introduction\n",
    "\n",
    "The Composite Pattern is a structural design pattern that allows you to compose objects into tree-like structures to represent part-whole hierarchies. This pattern enables clients to treat individual objects and compositions of objects uniformly.\n",
    "\n",
    "## Motivation\n",
    "\n",
    "In software development, there are scenarios where you need to work with tree structures or hierarchies, such as organizational charts, file systems, or graphical user interfaces. The Composite Pattern simplifies these scenarios by providing a unified interface for both individual objects and composites.\n",
    "\n",
    "## Implementation\n",
    "\n",
    "Let's dive into the implementation of the Composite Pattern. In this pattern, we define a component interface or abstract class that declares common operations for both simple and complex objects. We then create concrete implementations for leaf objects and composite objects.\n",
    "\n",
    "We define a `FileSystemComponent` interface or abstract class with a method `show_details`, representing the common operation."
   ]
  },
  {
   "cell_type": "code",
   "execution_count": 1,
   "id": "e3c704c7",
   "metadata": {},
   "outputs": [],
   "source": [
    "from abc import ABC, abstractmethod\n",
    "\n",
    "# Component\n",
    "class FileSystemComponent(ABC):\n",
    "    @abstractmethod\n",
    "    def show_details(self):\n",
    "        pass"
   ]
  },
  {
   "cell_type": "markdown",
   "id": "ba819034",
   "metadata": {},
   "source": [
    "Now, we define a `File` class as the leaf, which implements the `FileSystemComponent` interface."
   ]
  },
  {
   "cell_type": "code",
   "execution_count": 3,
   "id": "cfc242d8",
   "metadata": {},
   "outputs": [],
   "source": [
    "# Leaf\n",
    "class File(FileSystemComponent):\n",
    "    def __init__(self, name):\n",
    "        self.name = name\n",
    "\n",
    "    def show_details(self):\n",
    "        print(f\"File: {self.name}\")"
   ]
  },
  {
   "cell_type": "markdown",
   "id": "fede7b15",
   "metadata": {},
   "source": [
    "Finally, we define a `Directory` class as the composite, which also implements the `FileSystemComponent` interface and contains a collection of `FileSystemComponent` objects. The composite class implements methods to add, remove, and show details of its child components."
   ]
  },
  {
   "cell_type": "code",
   "execution_count": 4,
   "id": "09827d36",
   "metadata": {},
   "outputs": [],
   "source": [
    "# Composite\n",
    "class Directory(FileSystemComponent):\n",
    "    def __init__(self, name):\n",
    "        self.name = name\n",
    "        self.components = []\n",
    "\n",
    "    def add(self, component):\n",
    "        self.components.append(component)\n",
    "\n",
    "    def remove(self, component):\n",
    "        self.components.remove(component)\n",
    "\n",
    "    def show_details(self):\n",
    "        print(f\"Directory: {self.name}\")\n",
    "        for component in self.components:\n",
    "            component.show_details()"
   ]
  },
  {
   "cell_type": "markdown",
   "id": "7e4c1edc",
   "metadata": {},
   "source": [
    "Now, let's see how we can use the Composite Pattern in a real-life example of a file system with directories and files."
   ]
  },
  {
   "cell_type": "code",
   "execution_count": 5,
   "id": "f495e029",
   "metadata": {},
   "outputs": [],
   "source": [
    "# Client code\n",
    "root_directory = Directory(\"root\")\n",
    "home_directory = Directory(\"home\")\n",
    "user_directory = Directory(\"user\")\n",
    "\n",
    "file1 = File(\"file1.txt\")\n",
    "file2 = File(\"file2.txt\")\n",
    "file3 = File(\"file3.txt\")"
   ]
  },
  {
   "cell_type": "markdown",
   "id": "58e24469",
   "metadata": {},
   "source": [
    "In this example:\n",
    "\n",
    "- We create `Directory` objects representing the root, home, and user directories.\n",
    "- We create `File` objects representing individual files.\n",
    "- We build a tree structure by adding directories and files to their respective parents.\n",
    "- We call the `show_details` method on the root directory to display the details of the entire file system hierarchy."
   ]
  },
  {
   "cell_type": "code",
   "execution_count": 6,
   "id": "dfd835cc",
   "metadata": {},
   "outputs": [
    {
     "name": "stdout",
     "output_type": "stream",
     "text": [
      "Directory: root\n",
      "Directory: home\n",
      "Directory: user\n",
      "File: file1.txt\n",
      "File: file2.txt\n",
      "File: file3.txt\n"
     ]
    }
   ],
   "source": [
    "# Build the tree structure\n",
    "root_directory.add(home_directory)\n",
    "home_directory.add(user_directory)\n",
    "user_directory.add(file1)\n",
    "user_directory.add(file2)\n",
    "root_directory.add(file3)\n",
    "\n",
    "# Show details of the file system\n",
    "root_directory.show_details()"
   ]
  },
  {
   "cell_type": "markdown",
   "id": "a8c4da16",
   "metadata": {},
   "source": [
    "## Benefits\n",
    "\n",
    "- Simplifies client code by treating individual objects and compositions uniformly.\n",
    "- Makes it easier to work with tree structures and hierarchies.\n",
    "- Promotes flexibility and extensibility in the system.\n",
    "\n",
    "## Drawbacks\n",
    "\n",
    "- Can add complexity to the design, especially when dealing with large hierarchies.\n",
    "- Requires careful management of the relationships between components and composites."
   ]
  }
 ],
 "metadata": {
  "kernelspec": {
   "display_name": "Python 3 (ipykernel)",
   "language": "python",
   "name": "python3"
  },
  "language_info": {
   "codemirror_mode": {
    "name": "ipython",
    "version": 3
   },
   "file_extension": ".py",
   "mimetype": "text/x-python",
   "name": "python",
   "nbconvert_exporter": "python",
   "pygments_lexer": "ipython3",
   "version": "3.10.11"
  }
 },
 "nbformat": 4,
 "nbformat_minor": 5
}
