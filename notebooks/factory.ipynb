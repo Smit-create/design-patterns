{
 "cells": [
  {
   "cell_type": "markdown",
   "id": "7bd19bb0",
   "metadata": {},
   "source": [
    "# Factory Method Pattern\n",
    "\n",
    "## Introduction\n",
    "\n",
    "The Factory Method Pattern is a creational design pattern that provides an interface for creating objects in a superclass but allows subclasses to alter the type of objects that will be created. It encapsulates the object creation logic, making it easier to manage and extend.\n",
    "\n",
    "## Motivation\n",
    "\n",
    "In software development, there are scenarios where the exact type of object to be created may not be known until runtime or may vary based on certain conditions. The Factory Method Pattern addresses this by delegating the responsibility of object creation to subclasses, thereby promoting loose coupling between the creator and the product.\n",
    "\n",
    "## Implementation\n",
    "\n",
    "Let's dive into the implementation of the Factory Method Pattern. In this pattern, we define an interface or abstract class for creating objects, and subclasses implement the factory method to create specific types of objects.\n",
    "\n",
    "Let's consider a real-life example of a Factory Method Pattern in a scenario where we have different types of employees being hired by a company.\n",
    "\n",
    "### Example: Employee Hiring System\n",
    "\n",
    "Suppose you're developing a system for a company to hire different types of employees: full-time employees, part-time employees, and contractors. Each type of employee has different attributes and benefits.\n",
    "\n",
    "We can use the Factory Method Pattern to create a flexible system for hiring different types of employees.\n",
    "\n",
    "We start by defining an `Employee` interface or abstract class with a method `calculate_bonus`, which represents the bonus calculation for different types of employees."
   ]
  },
  {
   "cell_type": "code",
   "execution_count": 1,
   "id": "e50d0902",
   "metadata": {},
   "outputs": [],
   "source": [
    "from abc import ABC, abstractmethod\n",
    "\n",
    "class Employee(ABC):\n",
    "    def __init__(self, name, salary):\n",
    "        self.name = name\n",
    "        self.salary = salary\n",
    "    \n",
    "    @abstractmethod\n",
    "    def calculate_bonus(self):\n",
    "        pass\n",
    "    \n",
    "    @abstractmethod\n",
    "    def type_name(self):\n",
    "        pass"
   ]
  },
  {
   "cell_type": "markdown",
   "id": "ac65500b",
   "metadata": {},
   "source": [
    " Now, we define concrete implementations of the Employee interface: `FullTimeEmployee`, `PartTimeEmployee`, and `Contractor`, each implementing the `calculate_bonus` method based on their specific rules."
   ]
  },
  {
   "cell_type": "code",
   "execution_count": 12,
   "id": "bc35fc32",
   "metadata": {},
   "outputs": [],
   "source": [
    "class FullTimeEmployee(Employee):\n",
    "    def calculate_bonus(self):\n",
    "        # Full-time employees get 10% bonus\n",
    "        return self.salary * 0.1\n",
    "    \n",
    "    def type_name(self):\n",
    "        return \"FullTimeEmployee\"\n",
    "\n",
    "class PartTimeEmployee(Employee):\n",
    "    def calculate_bonus(self):\n",
    "        # Part-time employees get 5% bonus\n",
    "        return self.salary * 0.05\n",
    "    \n",
    "    def type_name(self):\n",
    "        return \"PartTimeEmployee\"\n",
    "\n",
    "class Contractor(Employee):\n",
    "    def calculate_bonus(self):\n",
    "        # Contractors don't receive bonus\n",
    "        return 0\n",
    "    \n",
    "    def type_name(self):\n",
    "        return \"Contractor\""
   ]
  },
  {
   "cell_type": "markdown",
   "id": "d036584f",
   "metadata": {},
   "source": [
    "Now, let's define a `HiringManager` interface or abstract class with a factory method `make_employee`, which is responsible for creating instances of employees."
   ]
  },
  {
   "cell_type": "code",
   "execution_count": 13,
   "id": "9e9e9351",
   "metadata": {},
   "outputs": [],
   "source": [
    "class HiringManager(ABC):\n",
    "    @abstractmethod\n",
    "    def make_employee(self, name, salary):\n",
    "        pass"
   ]
  },
  {
   "cell_type": "markdown",
   "id": "4781102d",
   "metadata": {},
   "source": [
    "We define concrete implementations of the `HiringManager` interface: `HRManager` and `Recruiter`, each implementing the `make_employee` method to create specific types of employees based on certain conditions."
   ]
  },
  {
   "cell_type": "code",
   "execution_count": 14,
   "id": "6bdd8960",
   "metadata": {},
   "outputs": [],
   "source": [
    "class HRManager(HiringManager):\n",
    "    def make_employee(self, name, salary):\n",
    "        return FullTimeEmployee(name, salary)\n",
    "\n",
    "class Recruiter(HiringManager):\n",
    "    def make_employee(self, name, salary):\n",
    "        if salary < 50000:\n",
    "            return PartTimeEmployee(name, salary)\n",
    "        else:\n",
    "            return Contractor(name, salary)"
   ]
  },
  {
   "cell_type": "markdown",
   "id": "8c3a779a",
   "metadata": {},
   "source": [
    "Now, let's see how we can use the Employee Hiring System:"
   ]
  },
  {
   "cell_type": "code",
   "execution_count": 15,
   "id": "c99a10b3",
   "metadata": {},
   "outputs": [],
   "source": [
    "# Create hiring managers\n",
    "hr_manager = HRManager()\n",
    "recruiter = Recruiter()"
   ]
  },
  {
   "cell_type": "code",
   "execution_count": 16,
   "id": "d9a8a60c",
   "metadata": {},
   "outputs": [],
   "source": [
    "# Hire employees using factory methods\n",
    "employee1 = hr_manager.make_employee(\"John\", 60000)\n",
    "employee2 = recruiter.make_employee(\"Alice\", 40000)\n",
    "employee3 = recruiter.make_employee(\"Bob\", 80000)"
   ]
  },
  {
   "cell_type": "code",
   "execution_count": 17,
   "id": "717da8f0",
   "metadata": {},
   "outputs": [],
   "source": [
    "# Calculate bonuses for employees\n",
    "bonus1 = employee1.calculate_bonus()\n",
    "bonus2 = employee2.calculate_bonus()\n",
    "bonus3 = employee3.calculate_bonus()"
   ]
  },
  {
   "cell_type": "code",
   "execution_count": 18,
   "id": "afe7d154",
   "metadata": {},
   "outputs": [
    {
     "name": "stdout",
     "output_type": "stream",
     "text": [
      "John: Bonus = $6000.0, Type: FullTimeEmployee\n",
      "Alice: Bonus = $2000.0, Type: PartTimeEmployee\n",
      "Bob: Bonus = $0, Type: Contractor\n"
     ]
    }
   ],
   "source": [
    "print(f\"{employee1.name}: Bonus = ${bonus1}, Type: {employee1.type_name()}\")\n",
    "print(f\"{employee2.name}: Bonus = ${bonus2}, Type: {employee2.type_name()}\")\n",
    "print(f\"{employee3.name}: Bonus = ${bonus3}, Type: {employee3.type_name()}\")"
   ]
  },
  {
   "cell_type": "markdown",
   "id": "d94de6ee",
   "metadata": {},
   "source": [
    "In this example, based on the salary provided, the hiring manager (`HRManager` or `Recruiter`) decides which type of employee to create using the factory method `make_employee`.\n",
    "\n",
    "Each employee's bonus is then calculated using the `calculate_bonus` method specific to their type."
   ]
  },
  {
   "cell_type": "markdown",
   "id": "8e8ba89c",
   "metadata": {},
   "source": [
    "## Benefits\n",
    "\n",
    "- Promotes loose coupling between creator and product classes.\n",
    "- Allows for easy extension by adding new creator and product subclasses.\n",
    "- Encapsulates object creation logic, making it easier to manage and maintain.\n",
    "\n",
    "## Drawbacks\n",
    "\n",
    "- May result in a proliferation of subclasses if there are many product variations.\n",
    "- Requires the creation of additional classes, which can increase complexity."
   ]
  }
 ],
 "metadata": {
  "kernelspec": {
   "display_name": "Python 3 (ipykernel)",
   "language": "python",
   "name": "python3"
  },
  "language_info": {
   "codemirror_mode": {
    "name": "ipython",
    "version": 3
   },
   "file_extension": ".py",
   "mimetype": "text/x-python",
   "name": "python",
   "nbconvert_exporter": "python",
   "pygments_lexer": "ipython3",
   "version": "3.10.11"
  }
 },
 "nbformat": 4,
 "nbformat_minor": 5
}
