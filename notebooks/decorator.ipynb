{
 "cells": [
  {
   "cell_type": "markdown",
   "id": "4b9f8348",
   "metadata": {},
   "source": [
    "# Decorator Pattern\n",
    "\n",
    "## Introduction\n",
    "\n",
    "The Decorator Pattern is a structural design pattern that allows you to dynamically add behavior or responsibilities to objects without modifying their code. This pattern is useful for adhering to the Open/Closed Principle, which states that classes should be open for extension but closed for modification.\n",
    "\n",
    "## Motivation\n",
    "\n",
    "In software development, there are scenarios where you need to add responsibilities to individual objects dynamically and transparently. The Decorator Pattern addresses this by providing a flexible alternative to subclassing for extending functionality.\n",
    "\n",
    "## Implementation\n",
    "\n",
    "Let's dive into the implementation of the Decorator Pattern. In this pattern, we define a component interface that declares common operations, concrete components that implement the interface, and decorator classes that wrap concrete components to extend their behavior.\n",
    "\n",
    "We define a `Beverage` interface with `cost` and `description` methods."
   ]
  },
  {
   "cell_type": "code",
   "execution_count": 2,
   "id": "56d0801f",
   "metadata": {},
   "outputs": [],
   "source": [
    "from abc import ABC, abstractmethod\n",
    "\n",
    "# Component\n",
    "class Beverage(ABC):\n",
    "    @abstractmethod\n",
    "    def cost(self):\n",
    "        pass\n",
    "\n",
    "    @abstractmethod\n",
    "    def description(self):\n",
    "        pass"
   ]
  },
  {
   "cell_type": "markdown",
   "id": "7e39cb3c",
   "metadata": {},
   "source": [
    "We define an `Espresso` class as a concrete component that implements the `Beverage` interface."
   ]
  },
  {
   "cell_type": "code",
   "execution_count": 3,
   "id": "097bbf59",
   "metadata": {},
   "outputs": [],
   "source": [
    "# Concrete Component\n",
    "class Espresso(Beverage):\n",
    "    def cost(self):\n",
    "        return 1.99\n",
    "\n",
    "    def description(self):\n",
    "        return \"Espresso\""
   ]
  },
  {
   "cell_type": "markdown",
   "id": "76d3eaa4",
   "metadata": {},
   "source": [
    "We define an `AddOnDecorator` abstract class that also implements the `Beverage` interface and wraps a `Beverage` object."
   ]
  },
  {
   "cell_type": "code",
   "execution_count": 4,
   "id": "210093e8",
   "metadata": {},
   "outputs": [],
   "source": [
    "# Decorator\n",
    "class AddOnDecorator(Beverage, ABC):\n",
    "    def __init__(self, beverage):\n",
    "        self._beverage = beverage\n",
    "\n",
    "    @abstractmethod\n",
    "    def cost(self):\n",
    "        pass\n",
    "\n",
    "    @abstractmethod\n",
    "    def description(self):\n",
    "        pass"
   ]
  },
  {
   "cell_type": "markdown",
   "id": "bc8c1619",
   "metadata": {},
   "source": [
    "We define `MilkDecorator` and `MochaDecorator` classes as concrete decorators that extend the behavior of the wrapped `Beverage` object."
   ]
  },
  {
   "cell_type": "code",
   "execution_count": 5,
   "id": "d4e8a8bc",
   "metadata": {},
   "outputs": [],
   "source": [
    "# Concrete Decorators\n",
    "class MilkDecorator(AddOnDecorator):\n",
    "    def cost(self):\n",
    "        return self._beverage.cost() + 0.50\n",
    "\n",
    "    def description(self):\n",
    "        return self._beverage.description() + \", Milk\"\n",
    "\n",
    "class MochaDecorator(AddOnDecorator):\n",
    "    def cost(self):\n",
    "        return self._beverage.cost() + 0.75\n",
    "\n",
    "    def description(self):\n",
    "        return self._beverage.description() + \", Mocha\""
   ]
  },
  {
   "cell_type": "markdown",
   "id": "e48c8dc4",
   "metadata": {},
   "source": [
    "Now, let's see how we can use the Decorator Pattern in a real-life example of a coffee shop where customers can add various ingredients to their beverages."
   ]
  },
  {
   "cell_type": "code",
   "execution_count": 6,
   "id": "51d8f039",
   "metadata": {},
   "outputs": [
    {
     "name": "stdout",
     "output_type": "stream",
     "text": [
      "Espresso - $1.99\n",
      "Espresso, Milk - $2.49\n",
      "Espresso, Milk, Mocha - $3.24\n"
     ]
    }
   ],
   "source": [
    "# Client code\n",
    "espresso = Espresso()\n",
    "print(f\"{espresso.description()} - ${espresso.cost()}\")\n",
    "\n",
    "# Add milk to the espresso\n",
    "espresso_with_milk = MilkDecorator(espresso)\n",
    "print(f\"{espresso_with_milk.description()} - ${espresso_with_milk.cost()}\")\n",
    "\n",
    "# Add mocha to the espresso with milk\n",
    "espresso_with_milk_and_mocha = MochaDecorator(espresso_with_milk)\n",
    "print(f\"{espresso_with_milk_and_mocha.description()} - ${espresso_with_milk_and_mocha.cost()}\")"
   ]
  },
  {
   "cell_type": "markdown",
   "id": "7e6b04b6",
   "metadata": {},
   "source": [
    "In this example:\n",
    "- We create an `Espresso` object representing a simple coffee.\n",
    "- We decorate the `Espresso` object with `MilkDecorator` to add milk.\n",
    "- We further decorate the `Espresso` object with `MochaDecorator` to add mocha.\n",
    "- We print the description and cost of each beverage to see how the decorators dynamically add behavior to the `Espresso`."
   ]
  },
  {
   "cell_type": "markdown",
   "id": "42483f56",
   "metadata": {},
   "source": [
    "## Benefits\n",
    "\n",
    "- Allows for the dynamic addition of behavior to objects without modifying their code.\n",
    "- Promotes adherence to the Open/Closed Principle.\n",
    "- Provides flexibility and composability in extending object behavior.\n",
    "\n",
    "## Drawbacks\n",
    "\n",
    "- Can lead to a large number of small classes, increasing code complexity.\n",
    "- May introduce performance overhead due to the additional layers of abstraction."
   ]
  }
 ],
 "metadata": {
  "kernelspec": {
   "display_name": "Python 3 (ipykernel)",
   "language": "python",
   "name": "python3"
  },
  "language_info": {
   "codemirror_mode": {
    "name": "ipython",
    "version": 3
   },
   "file_extension": ".py",
   "mimetype": "text/x-python",
   "name": "python",
   "nbconvert_exporter": "python",
   "pygments_lexer": "ipython3",
   "version": "3.10.11"
  }
 },
 "nbformat": 4,
 "nbformat_minor": 5
}
