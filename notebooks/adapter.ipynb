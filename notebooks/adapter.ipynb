{
 "cells": [
  {
   "cell_type": "markdown",
   "id": "4957edcf",
   "metadata": {},
   "source": [
    "# Adapter Pattern\n",
    "\n",
    "## Introduction\n",
    "\n",
    "The Adapter Pattern is a structural design pattern that allows incompatible interfaces to work together by providing a wrapper or adapter that translates the interface of one class to another. This pattern is useful when you want to use an existing class in a system with a different interface.\n",
    "\n",
    "## Motivation\n",
    "\n",
    "In software development, there are scenarios where a system expects a certain interface, but you want to use an existing class with a different interface. The Adapter Pattern addresses this by providing a way to adapt the existing class to the expected interface, enabling interoperability between the two.\n",
    "\n",
    "## Implementation\n",
    "\n",
    "Let's dive into the implementation of the Adapter Pattern. In this pattern, we define the target interface that the client expects, and an adapter class that implements the target interface and delegates calls to the existing class.\n",
    "\n",
    "We define a `TargetInterface` class with a method `request`, representing the expected interface."
   ]
  },
  {
   "cell_type": "code",
   "execution_count": 3,
   "id": "464fcdd6",
   "metadata": {},
   "outputs": [],
   "source": [
    "class TargetInterface:\n",
    "    def request(self):\n",
    "        pass"
   ]
  },
  {
   "cell_type": "markdown",
   "id": "eafdf583",
   "metadata": {},
   "source": [
    "We define an `Adaptee` class with a method `specific_request`, which has a different interface from what the client expects."
   ]
  },
  {
   "cell_type": "code",
   "execution_count": 4,
   "id": "cc66bccb",
   "metadata": {},
   "outputs": [],
   "source": [
    "class Adaptee:\n",
    "    def specific_request(self):\n",
    "        return \"Response from Adaptee\""
   ]
  },
  {
   "cell_type": "markdown",
   "id": "8a771029",
   "metadata": {},
   "source": [
    "And, finall, we define an `Adapter` class that implements the `TargetInterface` and delegates calls to the `Adaptee` class, translating the interface."
   ]
  },
  {
   "cell_type": "code",
   "execution_count": 5,
   "id": "c3ed044b",
   "metadata": {},
   "outputs": [],
   "source": [
    "class Adapter(TargetInterface):\n",
    "    def __init__(self, adaptee):\n",
    "        self.adaptee = adaptee\n",
    "\n",
    "    def request(self):\n",
    "        return self.adaptee.specific_request()"
   ]
  },
  {
   "cell_type": "markdown",
   "id": "f8b95eda",
   "metadata": {},
   "source": [
    "### Example\n",
    "\n",
    "Now, let's see how we can use the Adapter Pattern in a real-life example of adapting a European electrical socket (Adaptee) to work with a US plug (TargetInterface).\n",
    "\n",
    "We define a `EuropeanSocket` class representing a European electrical socket that provides European power."
   ]
  },
  {
   "cell_type": "code",
   "execution_count": 6,
   "id": "5ddfcdd8",
   "metadata": {},
   "outputs": [],
   "source": [
    "class EuropeanSocket:\n",
    "    def provide_european_power(self):\n",
    "        return \"European power\""
   ]
  },
  {
   "cell_type": "markdown",
   "id": "516469a9",
   "metadata": {},
   "source": [
    "We define a `USPlug` class representing the interface expected by a US plug."
   ]
  },
  {
   "cell_type": "code",
   "execution_count": 7,
   "id": "cd35c4e8",
   "metadata": {},
   "outputs": [],
   "source": [
    "class USPlug:\n",
    "    def request_power(self):\n",
    "        pass"
   ]
  },
  {
   "cell_type": "markdown",
   "id": "ad1df4a6",
   "metadata": {},
   "source": [
    "And, now, we define a `SocketAdapter` class that implements the `USPlug` interface and adapts the `EuropeanSocket` to provide US power by converting the European power."
   ]
  },
  {
   "cell_type": "code",
   "execution_count": 8,
   "id": "3e85f27d",
   "metadata": {},
   "outputs": [],
   "source": [
    "class SocketAdapter(USPlug):\n",
    "    def __init__(self, european_socket):\n",
    "        self.european_socket = european_socket\n",
    "\n",
    "    def request_power(self):\n",
    "        # Adapting European power to US power\n",
    "        european_power = self.european_socket.provide_european_power()\n",
    "        return f\"Converted {european_power} to US power\""
   ]
  },
  {
   "cell_type": "code",
   "execution_count": 9,
   "id": "5b6d2385",
   "metadata": {},
   "outputs": [
    {
     "name": "stdout",
     "output_type": "stream",
     "text": [
      "Converted European power to US power\n"
     ]
    }
   ],
   "source": [
    "european_socket = EuropeanSocket()\n",
    "socket_adapter = SocketAdapter(european_socket)\n",
    "\n",
    "# Using the adapter to request power for a US plug\n",
    "power = socket_adapter.request_power()\n",
    "print(power)"
   ]
  },
  {
   "cell_type": "markdown",
   "id": "48ac9465",
   "metadata": {},
   "source": [
    "## Benefits \n",
    "\n",
    "- Allows incompatible interfaces to work together, enabling interoperability.\n",
    "- Promotes code reuse by adapting existing classes to new interfaces.\n",
    "- Provides a flexible way to integrate new classes into existing systems.\n",
    "\n",
    "## Drawbacks\n",
    "- Can add complexity to the code, especially when there are multiple levels of adaptation.\n",
    "- May introduce performance overhead due to the extra layer of abstraction."
   ]
  }
 ],
 "metadata": {
  "kernelspec": {
   "display_name": "Python 3 (ipykernel)",
   "language": "python",
   "name": "python3"
  },
  "language_info": {
   "codemirror_mode": {
    "name": "ipython",
    "version": 3
   },
   "file_extension": ".py",
   "mimetype": "text/x-python",
   "name": "python",
   "nbconvert_exporter": "python",
   "pygments_lexer": "ipython3",
   "version": "3.10.11"
  }
 },
 "nbformat": 4,
 "nbformat_minor": 5
}
