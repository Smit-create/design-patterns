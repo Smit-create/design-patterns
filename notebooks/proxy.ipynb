{
 "cells": [
  {
   "cell_type": "markdown",
   "id": "b60a0e2b",
   "metadata": {},
   "source": [
    "# Proxy Pattern\n",
    "\n",
    "## Introduction\n",
    "\n",
    "The Proxy Pattern is a structural design pattern that provides a surrogate or placeholder for another object to control access to it. This pattern is useful for implementing lazy initialization, access control, logging, and more.\n",
    "\n",
    "## Motivation\n",
    "\n",
    "In software development, there are scenarios where you need to control access to an object, delay its creation, or provide additional functionality before or after its operations. The Proxy Pattern addresses these needs by introducing an intermediary that manages access to the real object.\n",
    "\n",
    "## Implementation\n",
    "\n",
    "Let's dive into the implementation of the Proxy Pattern. In this pattern, we define an interface for the subject, a real subject that implements this interface, and a proxy that also implements the interface and controls access to the real subject.\n",
    "\n",
    "We define a `Subject` interface with a `request` method."
   ]
  },
  {
   "cell_type": "code",
   "execution_count": 1,
   "id": "011dfa74",
   "metadata": {},
   "outputs": [],
   "source": [
    "from abc import ABC, abstractmethod\n",
    "\n",
    "# Subject interface\n",
    "class Subject(ABC):\n",
    "    @abstractmethod\n",
    "    def request(self):\n",
    "        pass"
   ]
  },
  {
   "cell_type": "markdown",
   "id": "a5e79390",
   "metadata": {},
   "source": [
    "We define a `RealSubject` class that implements the `Subject` interface and handles the request."
   ]
  },
  {
   "cell_type": "code",
   "execution_count": 2,
   "id": "0ba8eb1e",
   "metadata": {},
   "outputs": [],
   "source": [
    "# Real Subject\n",
    "class RealSubject(Subject):\n",
    "    def request(self):\n",
    "        print(\"RealSubject: Handling request\")"
   ]
  },
  {
   "cell_type": "markdown",
   "id": "56dc1ba7",
   "metadata": {},
   "source": [
    "We define a `Proxy` class that also implements the `Subject` interface and controls access to the `RealSubject` by performing additional operations such as access control and logging."
   ]
  },
  {
   "cell_type": "code",
   "execution_count": 3,
   "id": "ea64a465",
   "metadata": {},
   "outputs": [],
   "source": [
    "# Proxy\n",
    "class Proxy(Subject):\n",
    "    def __init__(self, real_subject):\n",
    "        self._real_subject = real_subject\n",
    "\n",
    "    def request(self):\n",
    "        if self._check_access():\n",
    "            self._real_subject.request()\n",
    "            self._log_access()\n",
    "\n",
    "    def _check_access(self):\n",
    "        # Simulate access control check\n",
    "        print(\"Proxy: Checking access prior to firing a real request\")\n",
    "        return True\n",
    "\n",
    "    def _log_access(self):\n",
    "        # Simulate logging the access\n",
    "        print(\"Proxy: Logging the time of request\")"
   ]
  },
  {
   "cell_type": "markdown",
   "id": "e60f2a4f",
   "metadata": {},
   "source": [
    "Now, let's see how we can use the Proxy Pattern in a real-life example of a document access system where access to sensitive documents is controlled and logged."
   ]
  },
  {
   "cell_type": "code",
   "execution_count": 4,
   "id": "c8226d55",
   "metadata": {},
   "outputs": [
    {
     "name": "stdout",
     "output_type": "stream",
     "text": [
      "Client: Executing the client code with a real subject:\n",
      "RealSubject: Handling request\n",
      "\n",
      "Client: Executing the same client code with a proxy:\n",
      "Proxy: Checking access prior to firing a real request\n",
      "RealSubject: Handling request\n",
      "Proxy: Logging the time of request\n"
     ]
    }
   ],
   "source": [
    "# Client code\n",
    "def client_code(subject: Subject):\n",
    "    # The client code works with subjects via the Subject interface\n",
    "    subject.request()\n",
    "\n",
    "# Real Subject\n",
    "real_subject = RealSubject()\n",
    "\n",
    "# Proxy controlling access to the Real Subject\n",
    "proxy = Proxy(real_subject)\n",
    "\n",
    "print(\"Client: Executing the client code with a real subject:\")\n",
    "client_code(real_subject)\n",
    "\n",
    "print(\"\\nClient: Executing the same client code with a proxy:\")\n",
    "client_code(proxy)"
   ]
  },
  {
   "cell_type": "markdown",
   "id": "169f0ab9",
   "metadata": {},
   "source": [
    "In this example:\n",
    "- We define a `client_code` function that works with `Subject` objects via the `Subject` interface.\n",
    "- We create a `RealSubject` object representing the actual document handler.\n",
    "- We create a `Proxy` object that controls access to the `RealSubject`.\n",
    "- We execute the client code with both the `RealSubject` and the `Proxy` to demonstrate how the proxy controls access and adds additional behavior."
   ]
  },
  {
   "cell_type": "markdown",
   "id": "512951f3",
   "metadata": {},
   "source": [
    "## Real-Life Example\n",
    "\n",
    "Let's consider a real-life example of a video streaming service where videos are only loaded and played when requested. The proxy controls access to the video loading process.\n",
    "\n",
    "We define a `Video` interface with a `play` method."
   ]
  },
  {
   "cell_type": "code",
   "execution_count": 7,
   "id": "b25c7a0f",
   "metadata": {},
   "outputs": [],
   "source": [
    "# Subject interface\n",
    "class Video(ABC):\n",
    "    @abstractmethod\n",
    "    def play(self):\n",
    "        pass"
   ]
  },
  {
   "cell_type": "markdown",
   "id": "28a82a20",
   "metadata": {},
   "source": [
    "We define a `RealVideo` class that loads and plays a video file."
   ]
  },
  {
   "cell_type": "code",
   "execution_count": 8,
   "id": "8360d494",
   "metadata": {},
   "outputs": [],
   "source": [
    "# Real Subject\n",
    "class RealVideo(Video):\n",
    "    def __init__(self, filename):\n",
    "        self.filename = filename\n",
    "        self._load_video()\n",
    "\n",
    "    def _load_video(self):\n",
    "        print(f\"RealVideo: Loading video {self.filename}\")\n",
    "\n",
    "    def play(self):\n",
    "        print(f\"RealVideo: Playing video {self.filename}\")"
   ]
  },
  {
   "cell_type": "markdown",
   "id": "31fe51aa",
   "metadata": {},
   "source": [
    "We define a `VideoProxy` class that controls access to the `RealVideo`, loading it only when the `play` method is called for the first time."
   ]
  },
  {
   "cell_type": "code",
   "execution_count": 9,
   "id": "21cb36e7",
   "metadata": {},
   "outputs": [],
   "source": [
    "# Proxy\n",
    "class VideoProxy(Video):\n",
    "    def __init__(self, filename):\n",
    "        self.filename = filename\n",
    "        self._real_video = None\n",
    "\n",
    "    def play(self):\n",
    "        if self._real_video is None:\n",
    "            self._real_video = RealVideo(self.filename)\n",
    "        self._real_video.play()"
   ]
  },
  {
   "cell_type": "markdown",
   "id": "2ecf50ee",
   "metadata": {},
   "source": [
    "The client code requests to play the video through the proxy, demonstrating lazy initialization and access control."
   ]
  },
  {
   "cell_type": "code",
   "execution_count": 6,
   "id": "37c839ad",
   "metadata": {},
   "outputs": [
    {
     "name": "stdout",
     "output_type": "stream",
     "text": [
      "Client: Requesting to play video through proxy:\n",
      "RealVideo: Loading video example.mp4\n",
      "RealVideo: Playing video example.mp4\n"
     ]
    }
   ],
   "source": [
    "# Client code\n",
    "def client_code(video: Video):\n",
    "    video.play()\n",
    "\n",
    "# Using the proxy\n",
    "video_proxy = VideoProxy(\"example.mp4\")\n",
    "\n",
    "print(\"Client: Requesting to play video through proxy:\")\n",
    "client_code(video_proxy)"
   ]
  },
  {
   "cell_type": "markdown",
   "id": "f348c724",
   "metadata": {},
   "source": [
    "## Benefits\n",
    "\n",
    "- Provides control over the access to an object.\n",
    "- Can introduce additional behavior (e.g., logging, access control) without modifying the real subject.\n",
    "- Supports lazy initialization, reducing resource usage until the object is needed.\n",
    "\n",
    "## Drawbacks\n",
    "\n",
    "- Can add complexity to the code due to the additional layer of abstraction.\n",
    "- May introduce performance overhead due to the intermediary."
   ]
  }
 ],
 "metadata": {
  "kernelspec": {
   "display_name": "Python 3 (ipykernel)",
   "language": "python",
   "name": "python3"
  },
  "language_info": {
   "codemirror_mode": {
    "name": "ipython",
    "version": 3
   },
   "file_extension": ".py",
   "mimetype": "text/x-python",
   "name": "python",
   "nbconvert_exporter": "python",
   "pygments_lexer": "ipython3",
   "version": "3.10.11"
  }
 },
 "nbformat": 4,
 "nbformat_minor": 5
}
